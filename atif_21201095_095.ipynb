{
  "nbformat": 4,
  "nbformat_minor": 0,
  "metadata": {
    "colab": {
      "provenance": []
    },
    "kernelspec": {
      "name": "python3",
      "display_name": "Python 3"
    },
    "language_info": {
      "name": "python"
    }
  },
  "cells": [
    {
      "cell_type": "code",
      "execution_count": 1,
      "metadata": {
        "colab": {
          "base_uri": "https://localhost:8080/"
        },
        "id": "yoCiP4Iz7w26",
        "outputId": "9b9114ae-b7fb-4473-f996-97467c2e67a1"
      },
      "outputs": [
        {
          "output_type": "stream",
          "name": "stdout",
          "text": [
            "Total Hits: 3\n",
            "Total Misses: 10\n"
          ]
        }
      ],
      "source": [
        "def fifo_page_replacement(pages, frame_size):\n",
        "    frames = []\n",
        "    hits = 0\n",
        "    misses = 0\n",
        "\n",
        "    for page in pages:\n",
        "        if page in frames:\n",
        "            hits += 1\n",
        "        else:\n",
        "            misses += 1\n",
        "            if len(frames) == frame_size:\n",
        "                frames.pop(0)\n",
        "            frames.append(page)\n",
        "\n",
        "    print(\"Total Hits:\", hits)\n",
        "    print(\"Total Misses:\", misses)\n",
        "\n",
        "page_reference = [0, 1, 5, 3, 5, 0, 2, 4, 7, 9, 0, 0, 3]\n",
        "frame_size = 4\n",
        "\n",
        "fifo_page_replacement(page_reference, frame_size)\n"
      ]
    }
  ]
}