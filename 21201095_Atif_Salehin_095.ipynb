{
  "nbformat": 4,
  "nbformat_minor": 0,
  "metadata": {
    "colab": {
      "provenance": []
    },
    "kernelspec": {
      "name": "python3",
      "display_name": "Python 3"
    },
    "language_info": {
      "name": "python"
    }
  },
  "cells": [
    {
      "cell_type": "code",
      "execution_count": 2,
      "metadata": {
        "colab": {
          "base_uri": "https://localhost:8080/"
        },
        "id": "e-blmr72_VH4",
        "outputId": "ecea5ed0-3794-4839-c620-38edb62be5d4"
      },
      "outputs": [
        {
          "output_type": "stream",
          "name": "stdout",
          "text": [
            "Execution Order:\n",
            "P1: 0 -> 5\n",
            "P2: 5 -> 9\n",
            "P3: 9 -> 14\n",
            "P4: 14 -> 19\n",
            "P5: 19 -> 24\n",
            "P6: 24 -> 29\n",
            "P1: 29 -> 31\n",
            "P3: 31 -> 36\n",
            "P4: 36 -> 41\n",
            "P5: 41 -> 46\n",
            "P6: 46 -> 50\n",
            "P3: 50 -> 55\n",
            "P4: 55 -> 56\n",
            "P5: 56 -> 61\n",
            "P5: 61 -> 66\n",
            "\n",
            "Final Table:\n",
            "PIDArrival\tBurst\tCompletion\tTurnaround\tWaiting\n",
            "P2\t1\t4\t9\t\t8\t\t4\n",
            "P1\t0\t7\t31\t\t31\t\t24\n",
            "P6\t4\t9\t50\t\t46\t\t37\n",
            "P3\t2\t15\t55\t\t53\t\t38\n",
            "P4\t3\t11\t56\t\t53\t\t42\n",
            "P5\t4\t20\t66\t\t62\t\t42\n"
          ]
        }
      ],
      "source": [
        "processes = [\n",
        "    {\"pid\": \"P1\", \"arrival\": 0, \"burst\": 7},\n",
        "    {\"pid\": \"P2\", \"arrival\": 1, \"burst\": 4},\n",
        "    {\"pid\": \"P3\", \"arrival\": 2, \"burst\": 15},\n",
        "    {\"pid\": \"P4\", \"arrival\": 3, \"burst\": 11},\n",
        "    {\"pid\": \"P5\", \"arrival\": 4, \"burst\": 20},\n",
        "    {\"pid\": \"P6\", \"arrival\": 4, \"burst\": 9}\n",
        "]\n",
        "\n",
        "quantum = 5\n",
        "time = 0\n",
        "queue = []\n",
        "completed = []\n",
        "remaining = {p[\"pid\"]: p[\"burst\"] for p in processes}\n",
        "arrival_dict = {p[\"pid\"]: p[\"arrival\"] for p in processes}\n",
        "process_dict = {p[\"pid\"]: p for p in processes}\n",
        "execution_order = []\n",
        "in_queue = set()\n",
        "\n",
        "def add_new_arrivals(time):\n",
        "    for p in processes:\n",
        "        if p[\"arrival\"] <= time and p[\"pid\"] not in in_queue and p[\"pid\"] not in [c[\"pid\"] for c in completed]:\n",
        "            queue.append(p[\"pid\"])\n",
        "            in_queue.add(p[\"pid\"])\n",
        "\n",
        "add_new_arrivals(time)\n",
        "\n",
        "while queue:\n",
        "    pid = queue.pop(0)\n",
        "    exec_time = min(quantum, remaining[pid])\n",
        "    execution_order.append((pid, time, time + exec_time))\n",
        "    time += exec_time\n",
        "    remaining[pid] -= exec_time\n",
        "    add_new_arrivals(time)\n",
        "    if remaining[pid] > 0:\n",
        "        queue.append(pid)\n",
        "    else:\n",
        "        completed.append({\n",
        "            \"pid\": pid,\n",
        "            \"completion\": time,\n",
        "            \"turnaround\": time - arrival_dict[pid],\n",
        "            \"waiting\": time - arrival_dict[pid] - process_dict[pid][\"burst\"]\n",
        "        })\n",
        "\n",
        "print(\"Execution Order:\")\n",
        "for entry in execution_order:\n",
        "    print(f\"{entry[0]}: {entry[1]} -> {entry[2]}\")\n",
        "\n",
        "print(\"\\nFinal Table:\")\n",
        "print(\"PID\\tArrival\\tBurst\\tCompletion\\tTurnaround\\tWaiting\")\n",
        "for c in completed:\n",
        "    p = process_dict[c[\"pid\"]]\n",
        "    print(f\"{c['pid']}\\t{p['arrival']}\\t{p['burst']}\\t{c['completion']}\\t\\t{c['turnaround']}\\t\\t{c['waiting']}\")\n"
      ]
    }
  ]
}